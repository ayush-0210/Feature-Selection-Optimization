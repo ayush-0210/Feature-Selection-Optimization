{
 "cells": [
  {
   "cell_type": "markdown",
   "id": "f2d245f5",
   "metadata": {},
   "source": [
    "## Optimization Project 3 <br>\n",
    "### Team of Consultants- <br>\n",
    "1. Yi-Ting Huang <br>\n",
    "2. Hyeon Gu Kim <br>\n",
    "3. Ayush Malani <br>\n",
    "4. Allie Touchstone"
   ]
  },
  {
   "cell_type": "markdown",
   "id": "adf1bd7f",
   "metadata": {},
   "source": [
    "## Importing Libraries"
   ]
  },
  {
   "cell_type": "code",
   "execution_count": 115,
   "id": "d3aaba3f",
   "metadata": {},
   "outputs": [],
   "source": [
    "import numpy as np\n",
    "import pandas as pd\n",
    "import seaborn as sns   \n",
    "import matplotlib.pyplot as plt  \n",
    "sns.set(color_codes=True) \n",
    "%matplotlib inline \n",
    "\n",
    "\n",
    "import gurobipy as gp\n",
    "from scipy.optimize import minimize\n",
    "from statistics import mean\n",
    "\n",
    "\n",
    "import warnings\n",
    "warnings.filterwarnings(\"ignore\", category=DeprecationWarning) "
   ]
  },
  {
   "cell_type": "markdown",
   "id": "d534920e",
   "metadata": {},
   "source": [
    "#### Setting Time Limit"
   ]
  },
  {
   "cell_type": "code",
   "execution_count": 116,
   "id": "c1d00b7a",
   "metadata": {},
   "outputs": [],
   "source": [
    "# Setting the time limit\n",
    "\n",
    "time_limit = 3600"
   ]
  },
  {
   "cell_type": "code",
   "execution_count": 117,
   "id": "45ee7390",
   "metadata": {},
   "outputs": [],
   "source": [
    "# Reading the training data\n",
    "\n",
    "train_df = pd.read_csv(\"training_data.csv\")\n",
    "\n",
    "# Reading the test data\n",
    "\n",
    "test_df = pd.read_csv(\"test_data.csv\")"
   ]
  },
  {
   "cell_type": "code",
   "execution_count": 118,
   "id": "5a1e9ba9",
   "metadata": {},
   "outputs": [
    {
     "data": {
      "text/html": [
       "<div>\n",
       "<style scoped>\n",
       "    .dataframe tbody tr th:only-of-type {\n",
       "        vertical-align: middle;\n",
       "    }\n",
       "\n",
       "    .dataframe tbody tr th {\n",
       "        vertical-align: top;\n",
       "    }\n",
       "\n",
       "    .dataframe thead th {\n",
       "        text-align: right;\n",
       "    }\n",
       "</style>\n",
       "<table border=\"1\" class=\"dataframe\">\n",
       "  <thead>\n",
       "    <tr style=\"text-align: right;\">\n",
       "      <th></th>\n",
       "      <th>y</th>\n",
       "      <th>X1</th>\n",
       "      <th>X2</th>\n",
       "      <th>X3</th>\n",
       "      <th>X4</th>\n",
       "      <th>X5</th>\n",
       "      <th>X6</th>\n",
       "      <th>X7</th>\n",
       "      <th>X8</th>\n",
       "      <th>X9</th>\n",
       "      <th>...</th>\n",
       "      <th>X41</th>\n",
       "      <th>X42</th>\n",
       "      <th>X43</th>\n",
       "      <th>X44</th>\n",
       "      <th>X45</th>\n",
       "      <th>X46</th>\n",
       "      <th>X47</th>\n",
       "      <th>X48</th>\n",
       "      <th>X49</th>\n",
       "      <th>X50</th>\n",
       "    </tr>\n",
       "  </thead>\n",
       "  <tbody>\n",
       "    <tr>\n",
       "      <th>0</th>\n",
       "      <td>8.536145</td>\n",
       "      <td>-1.535413</td>\n",
       "      <td>0.718888</td>\n",
       "      <td>-2.099149</td>\n",
       "      <td>-0.442842</td>\n",
       "      <td>-0.598978</td>\n",
       "      <td>-1.642574</td>\n",
       "      <td>0.207755</td>\n",
       "      <td>0.760642</td>\n",
       "      <td>0.575874</td>\n",
       "      <td>...</td>\n",
       "      <td>0.361866</td>\n",
       "      <td>1.793098</td>\n",
       "      <td>-0.631287</td>\n",
       "      <td>-0.061751</td>\n",
       "      <td>0.511049</td>\n",
       "      <td>0.488754</td>\n",
       "      <td>-0.612772</td>\n",
       "      <td>-0.471045</td>\n",
       "      <td>-1.139781</td>\n",
       "      <td>-0.260773</td>\n",
       "    </tr>\n",
       "    <tr>\n",
       "      <th>1</th>\n",
       "      <td>4.808344</td>\n",
       "      <td>-1.734609</td>\n",
       "      <td>0.551981</td>\n",
       "      <td>-2.147673</td>\n",
       "      <td>-1.552944</td>\n",
       "      <td>1.514910</td>\n",
       "      <td>-1.143972</td>\n",
       "      <td>0.737594</td>\n",
       "      <td>1.321243</td>\n",
       "      <td>-0.261684</td>\n",
       "      <td>...</td>\n",
       "      <td>-0.677985</td>\n",
       "      <td>-0.165679</td>\n",
       "      <td>0.065405</td>\n",
       "      <td>0.137162</td>\n",
       "      <td>1.258197</td>\n",
       "      <td>-0.120834</td>\n",
       "      <td>-1.564834</td>\n",
       "      <td>-0.242565</td>\n",
       "      <td>-0.001827</td>\n",
       "      <td>1.187453</td>\n",
       "    </tr>\n",
       "    <tr>\n",
       "      <th>2</th>\n",
       "      <td>-1.530427</td>\n",
       "      <td>0.097257</td>\n",
       "      <td>0.107634</td>\n",
       "      <td>-0.194222</td>\n",
       "      <td>0.335454</td>\n",
       "      <td>-0.408199</td>\n",
       "      <td>0.133265</td>\n",
       "      <td>0.706179</td>\n",
       "      <td>0.394971</td>\n",
       "      <td>-0.437116</td>\n",
       "      <td>...</td>\n",
       "      <td>1.108801</td>\n",
       "      <td>0.333791</td>\n",
       "      <td>0.282055</td>\n",
       "      <td>-1.086294</td>\n",
       "      <td>-0.115354</td>\n",
       "      <td>0.257857</td>\n",
       "      <td>-0.088838</td>\n",
       "      <td>-0.751231</td>\n",
       "      <td>1.450609</td>\n",
       "      <td>0.290593</td>\n",
       "    </tr>\n",
       "    <tr>\n",
       "      <th>3</th>\n",
       "      <td>-0.428243</td>\n",
       "      <td>-0.067702</td>\n",
       "      <td>0.557836</td>\n",
       "      <td>0.700848</td>\n",
       "      <td>-1.121376</td>\n",
       "      <td>1.722274</td>\n",
       "      <td>0.613525</td>\n",
       "      <td>0.700909</td>\n",
       "      <td>-0.417976</td>\n",
       "      <td>1.069749</td>\n",
       "      <td>...</td>\n",
       "      <td>0.692511</td>\n",
       "      <td>-0.350990</td>\n",
       "      <td>0.624558</td>\n",
       "      <td>0.434520</td>\n",
       "      <td>-0.367409</td>\n",
       "      <td>-1.144681</td>\n",
       "      <td>-0.136524</td>\n",
       "      <td>-0.557214</td>\n",
       "      <td>0.416303</td>\n",
       "      <td>0.484495</td>\n",
       "    </tr>\n",
       "    <tr>\n",
       "      <th>4</th>\n",
       "      <td>0.566694</td>\n",
       "      <td>0.488729</td>\n",
       "      <td>0.211483</td>\n",
       "      <td>0.568389</td>\n",
       "      <td>0.646837</td>\n",
       "      <td>0.163868</td>\n",
       "      <td>-0.002152</td>\n",
       "      <td>0.125137</td>\n",
       "      <td>0.493571</td>\n",
       "      <td>1.705451</td>\n",
       "      <td>...</td>\n",
       "      <td>-0.000605</td>\n",
       "      <td>1.075280</td>\n",
       "      <td>0.182281</td>\n",
       "      <td>-1.138458</td>\n",
       "      <td>0.106092</td>\n",
       "      <td>0.544640</td>\n",
       "      <td>-0.383487</td>\n",
       "      <td>-0.425773</td>\n",
       "      <td>2.667647</td>\n",
       "      <td>-0.050748</td>\n",
       "    </tr>\n",
       "  </tbody>\n",
       "</table>\n",
       "<p>5 rows × 51 columns</p>\n",
       "</div>"
      ],
      "text/plain": [
       "          y        X1        X2        X3        X4        X5        X6  \\\n",
       "0  8.536145 -1.535413  0.718888 -2.099149 -0.442842 -0.598978 -1.642574   \n",
       "1  4.808344 -1.734609  0.551981 -2.147673 -1.552944  1.514910 -1.143972   \n",
       "2 -1.530427  0.097257  0.107634 -0.194222  0.335454 -0.408199  0.133265   \n",
       "3 -0.428243 -0.067702  0.557836  0.700848 -1.121376  1.722274  0.613525   \n",
       "4  0.566694  0.488729  0.211483  0.568389  0.646837  0.163868 -0.002152   \n",
       "\n",
       "         X7        X8        X9  ...       X41       X42       X43       X44  \\\n",
       "0  0.207755  0.760642  0.575874  ...  0.361866  1.793098 -0.631287 -0.061751   \n",
       "1  0.737594  1.321243 -0.261684  ... -0.677985 -0.165679  0.065405  0.137162   \n",
       "2  0.706179  0.394971 -0.437116  ...  1.108801  0.333791  0.282055 -1.086294   \n",
       "3  0.700909 -0.417976  1.069749  ...  0.692511 -0.350990  0.624558  0.434520   \n",
       "4  0.125137  0.493571  1.705451  ... -0.000605  1.075280  0.182281 -1.138458   \n",
       "\n",
       "        X45       X46       X47       X48       X49       X50  \n",
       "0  0.511049  0.488754 -0.612772 -0.471045 -1.139781 -0.260773  \n",
       "1  1.258197 -0.120834 -1.564834 -0.242565 -0.001827  1.187453  \n",
       "2 -0.115354  0.257857 -0.088838 -0.751231  1.450609  0.290593  \n",
       "3 -0.367409 -1.144681 -0.136524 -0.557214  0.416303  0.484495  \n",
       "4  0.106092  0.544640 -0.383487 -0.425773  2.667647 -0.050748  \n",
       "\n",
       "[5 rows x 51 columns]"
      ]
     },
     "execution_count": 118,
     "metadata": {},
     "output_type": "execute_result"
    }
   ],
   "source": [
    "train_df.head()"
   ]
  },
  {
   "cell_type": "code",
   "execution_count": 119,
   "id": "8ee2eb3b",
   "metadata": {},
   "outputs": [
    {
     "data": {
      "text/html": [
       "<div>\n",
       "<style scoped>\n",
       "    .dataframe tbody tr th:only-of-type {\n",
       "        vertical-align: middle;\n",
       "    }\n",
       "\n",
       "    .dataframe tbody tr th {\n",
       "        vertical-align: top;\n",
       "    }\n",
       "\n",
       "    .dataframe thead th {\n",
       "        text-align: right;\n",
       "    }\n",
       "</style>\n",
       "<table border=\"1\" class=\"dataframe\">\n",
       "  <thead>\n",
       "    <tr style=\"text-align: right;\">\n",
       "      <th></th>\n",
       "      <th>y</th>\n",
       "      <th>X1</th>\n",
       "      <th>X2</th>\n",
       "      <th>X3</th>\n",
       "      <th>X4</th>\n",
       "      <th>X5</th>\n",
       "      <th>X6</th>\n",
       "      <th>X7</th>\n",
       "      <th>X8</th>\n",
       "      <th>X9</th>\n",
       "      <th>...</th>\n",
       "      <th>X41</th>\n",
       "      <th>X42</th>\n",
       "      <th>X43</th>\n",
       "      <th>X44</th>\n",
       "      <th>X45</th>\n",
       "      <th>X46</th>\n",
       "      <th>X47</th>\n",
       "      <th>X48</th>\n",
       "      <th>X49</th>\n",
       "      <th>X50</th>\n",
       "    </tr>\n",
       "  </thead>\n",
       "  <tbody>\n",
       "    <tr>\n",
       "      <th>0</th>\n",
       "      <td>7.107949</td>\n",
       "      <td>-2.047008</td>\n",
       "      <td>0.260132</td>\n",
       "      <td>-0.785152</td>\n",
       "      <td>0.384576</td>\n",
       "      <td>-0.137613</td>\n",
       "      <td>-0.364566</td>\n",
       "      <td>-1.941253</td>\n",
       "      <td>-0.108180</td>\n",
       "      <td>-0.339223</td>\n",
       "      <td>...</td>\n",
       "      <td>-0.522194</td>\n",
       "      <td>1.861897</td>\n",
       "      <td>0.124511</td>\n",
       "      <td>1.144071</td>\n",
       "      <td>0.128179</td>\n",
       "      <td>-0.467972</td>\n",
       "      <td>-1.085601</td>\n",
       "      <td>0.659670</td>\n",
       "      <td>0.514719</td>\n",
       "      <td>0.806656</td>\n",
       "    </tr>\n",
       "    <tr>\n",
       "      <th>1</th>\n",
       "      <td>5.796272</td>\n",
       "      <td>-1.354328</td>\n",
       "      <td>-1.289884</td>\n",
       "      <td>1.321533</td>\n",
       "      <td>-0.091165</td>\n",
       "      <td>-1.021874</td>\n",
       "      <td>0.686778</td>\n",
       "      <td>0.089737</td>\n",
       "      <td>-0.398371</td>\n",
       "      <td>-0.261740</td>\n",
       "      <td>...</td>\n",
       "      <td>-0.502578</td>\n",
       "      <td>0.584476</td>\n",
       "      <td>0.680703</td>\n",
       "      <td>0.046788</td>\n",
       "      <td>0.569681</td>\n",
       "      <td>-1.099062</td>\n",
       "      <td>-0.069656</td>\n",
       "      <td>0.709273</td>\n",
       "      <td>-0.848665</td>\n",
       "      <td>0.996168</td>\n",
       "    </tr>\n",
       "    <tr>\n",
       "      <th>2</th>\n",
       "      <td>1.598651</td>\n",
       "      <td>0.502205</td>\n",
       "      <td>1.062887</td>\n",
       "      <td>1.460733</td>\n",
       "      <td>-1.506403</td>\n",
       "      <td>0.721664</td>\n",
       "      <td>0.528921</td>\n",
       "      <td>-0.699541</td>\n",
       "      <td>-0.270331</td>\n",
       "      <td>-2.544812</td>\n",
       "      <td>...</td>\n",
       "      <td>-0.125195</td>\n",
       "      <td>-1.292924</td>\n",
       "      <td>0.411785</td>\n",
       "      <td>-0.164210</td>\n",
       "      <td>-2.407403</td>\n",
       "      <td>-1.132500</td>\n",
       "      <td>0.452923</td>\n",
       "      <td>-0.945541</td>\n",
       "      <td>0.126523</td>\n",
       "      <td>-0.972075</td>\n",
       "    </tr>\n",
       "    <tr>\n",
       "      <th>3</th>\n",
       "      <td>2.532953</td>\n",
       "      <td>0.222381</td>\n",
       "      <td>-0.960747</td>\n",
       "      <td>-0.113762</td>\n",
       "      <td>1.935927</td>\n",
       "      <td>0.969387</td>\n",
       "      <td>-1.641403</td>\n",
       "      <td>0.026647</td>\n",
       "      <td>0.747138</td>\n",
       "      <td>-1.571784</td>\n",
       "      <td>...</td>\n",
       "      <td>-0.546915</td>\n",
       "      <td>-0.192517</td>\n",
       "      <td>0.603420</td>\n",
       "      <td>-0.277331</td>\n",
       "      <td>-1.451419</td>\n",
       "      <td>0.220775</td>\n",
       "      <td>0.474954</td>\n",
       "      <td>-0.160109</td>\n",
       "      <td>0.188047</td>\n",
       "      <td>-1.711229</td>\n",
       "    </tr>\n",
       "    <tr>\n",
       "      <th>4</th>\n",
       "      <td>0.590685</td>\n",
       "      <td>1.209949</td>\n",
       "      <td>1.586874</td>\n",
       "      <td>-0.694784</td>\n",
       "      <td>-0.226370</td>\n",
       "      <td>-0.152108</td>\n",
       "      <td>0.772356</td>\n",
       "      <td>-0.573741</td>\n",
       "      <td>-0.992492</td>\n",
       "      <td>-0.646661</td>\n",
       "      <td>...</td>\n",
       "      <td>-0.982236</td>\n",
       "      <td>-1.407777</td>\n",
       "      <td>0.094211</td>\n",
       "      <td>0.159960</td>\n",
       "      <td>-0.901612</td>\n",
       "      <td>-1.653122</td>\n",
       "      <td>0.393518</td>\n",
       "      <td>0.702539</td>\n",
       "      <td>0.552663</td>\n",
       "      <td>-0.773646</td>\n",
       "    </tr>\n",
       "  </tbody>\n",
       "</table>\n",
       "<p>5 rows × 51 columns</p>\n",
       "</div>"
      ],
      "text/plain": [
       "          y        X1        X2        X3        X4        X5        X6  \\\n",
       "0  7.107949 -2.047008  0.260132 -0.785152  0.384576 -0.137613 -0.364566   \n",
       "1  5.796272 -1.354328 -1.289884  1.321533 -0.091165 -1.021874  0.686778   \n",
       "2  1.598651  0.502205  1.062887  1.460733 -1.506403  0.721664  0.528921   \n",
       "3  2.532953  0.222381 -0.960747 -0.113762  1.935927  0.969387 -1.641403   \n",
       "4  0.590685  1.209949  1.586874 -0.694784 -0.226370 -0.152108  0.772356   \n",
       "\n",
       "         X7        X8        X9  ...       X41       X42       X43       X44  \\\n",
       "0 -1.941253 -0.108180 -0.339223  ... -0.522194  1.861897  0.124511  1.144071   \n",
       "1  0.089737 -0.398371 -0.261740  ... -0.502578  0.584476  0.680703  0.046788   \n",
       "2 -0.699541 -0.270331 -2.544812  ... -0.125195 -1.292924  0.411785 -0.164210   \n",
       "3  0.026647  0.747138 -1.571784  ... -0.546915 -0.192517  0.603420 -0.277331   \n",
       "4 -0.573741 -0.992492 -0.646661  ... -0.982236 -1.407777  0.094211  0.159960   \n",
       "\n",
       "        X45       X46       X47       X48       X49       X50  \n",
       "0  0.128179 -0.467972 -1.085601  0.659670  0.514719  0.806656  \n",
       "1  0.569681 -1.099062 -0.069656  0.709273 -0.848665  0.996168  \n",
       "2 -2.407403 -1.132500  0.452923 -0.945541  0.126523 -0.972075  \n",
       "3 -1.451419  0.220775  0.474954 -0.160109  0.188047 -1.711229  \n",
       "4 -0.901612 -1.653122  0.393518  0.702539  0.552663 -0.773646  \n",
       "\n",
       "[5 rows x 51 columns]"
      ]
     },
     "execution_count": 119,
     "metadata": {},
     "output_type": "execute_result"
    }
   ],
   "source": [
    "test_df.head()"
   ]
  },
  {
   "cell_type": "code",
   "execution_count": 120,
   "id": "01402016",
   "metadata": {},
   "outputs": [
    {
     "name": "stdout",
     "output_type": "stream",
     "text": [
      "(250, 51)\n",
      "(50, 51)\n"
     ]
    }
   ],
   "source": [
    "print(train_df.shape)\n",
    "print(test_df.shape)"
   ]
  },
  {
   "cell_type": "markdown",
   "id": "94c2399a",
   "metadata": {},
   "source": [
    "# Q2"
   ]
  },
  {
   "cell_type": "markdown",
   "id": "bc706180",
   "metadata": {},
   "source": [
    "## Creating function to return optimal coefficients of independent variables"
   ]
  },
  {
   "cell_type": "code",
   "execution_count": 121,
   "id": "b8c49f76",
   "metadata": {},
   "outputs": [],
   "source": [
    "def olsoptimal(df,k,n):\n",
    "    \n",
    "    # creating the variables m = number of variables and n = number of observations\n",
    "    m = df.shape[1] - 1\n",
    "#     n = df.shape[0]\n",
    "\n",
    "    # creating a dataframe with all columns as independent variables and converting it into an array\n",
    "    # Also creating an array for the dependent variable\n",
    "    \n",
    "    X_df = df.drop(columns=['y'])\n",
    "    y_array = np.array(df['y'])\n",
    "    X = np.array(X_df)\n",
    "\n",
    "    X_matrix = np.zeros((n,m+1))\n",
    "\n",
    "    X_matrix[:,0] = 1\n",
    "    X_matrix[:,1:] = X\n",
    "    \n",
    "    # Creating X transpose multiplied by X matrix and putting it in left corner of Q matrix\n",
    "    XTX = (X_matrix.T @ X_matrix)\n",
    "\n",
    "    Q_matrix = np.zeros((2*m + 1,2*m + 1))\n",
    "\n",
    "    Q_matrix[0:51,0:51] = XTX\n",
    "    \n",
    "    \n",
    "    # Objective vector of coefficients for m+1 betas and m binary decision variables\n",
    "    obj = np.zeros((2*m+1))\n",
    "    obj[0:m+1] = -2*(y_array.T @ X_matrix)\n",
    "\n",
    "    # Setting big M as 200\n",
    "    M = 200\n",
    "    \n",
    "    # Creating the constraint matrix with 2m+1 constraints for 2m+1 variables. \n",
    "    # 1 constraint to ensure that maximum k variables are selected\n",
    "    # m constraints for the m betas being less than or equal to Mz (where z is the binary decision variable)\n",
    "    # m constraints for the m betas being greater than or equal to -Mz (where z is the binary decision variable)\n",
    "    \n",
    "    A = np.zeros((2*m+1,2*m+1))\n",
    "\n",
    "    A[0,:][-m:] = 1\n",
    "\n",
    "    for i in range(0,50):\n",
    "        A[1+i,[1+i,-m+i]] = [1,-M]\n",
    "\n",
    "    for i in range(0,50):\n",
    "        A[m+1+i,[1+i,-m+i]] = [1,M]\n",
    "\n",
    "    sense = ['<'] + ['<']*m + ['>']*m\n",
    "    b = np.array([k]+[0]*(2*m))\n",
    "\n",
    "    vtype = ['C']*(m+1) + ['B']*m\n",
    "    lb = -M\n",
    "    \n",
    "    \n",
    "    miqpMod = gp.Model()\n",
    "    miqpMod_x = miqpMod.addMVar(len(obj),vtype=vtype, lb=lb)\n",
    "    miqpMod_con = miqpMod.addMConstrs(A, miqpMod_x, sense, b)\n",
    "    miqpMod.setMObjective(Q_matrix,obj,0,sense=gp.GRB.MINIMIZE)\n",
    "\n",
    "    miqpMod.Params.OutputFlag = 0 \n",
    "\n",
    "    # Setting the time limit specified at the top of the code\n",
    "    miqpMod.Params.TimeLimit = time_limit\n",
    "    miqpMod.optimize()\n",
    "    \n",
    "    \n",
    "    betas = miqpMod_x.x[:(m+1)]\n",
    "    beta_columns = [1] + list(X_df.columns)\n",
    "    beta_df = pd.DataFrame(zip(beta_columns,betas),columns=['variable','coefficient'])\n",
    "    beta_df = beta_df[beta_df['coefficient']!=0]\n",
    "\n",
    "    z_decision = miqpMod_x.x[(m+1):]\n",
    "\n",
    "    \n",
    "    sq_error = miqpMod.objVal + (y_array.T @ y_array)\n",
    "    \n",
    "    return betas"
   ]
  },
  {
   "cell_type": "code",
   "execution_count": 122,
   "id": "2a7307ce",
   "metadata": {},
   "outputs": [
    {
     "data": {
      "text/plain": [
       "array([ 0.97252408,  0.        ,  0.        ,  0.        ,  0.        ,\n",
       "        0.        ,  0.        ,  0.        ,  0.        , -2.30820726,\n",
       "        0.        ,  0.        ,  0.        ,  0.        ,  0.        ,\n",
       "       -0.51832612, -0.20416201,  0.        ,  0.        ,  0.        ,\n",
       "        0.        ,  0.        ,  0.        , -1.55914318,  0.86697336,\n",
       "        0.        , -1.31191942,  0.        ,  0.        ,  0.        ,\n",
       "        0.        ,  0.        ,  0.        ,  0.        ,  0.4081653 ,\n",
       "        0.        ,  0.        ,  0.        ,  0.        ,  0.        ,\n",
       "        0.        ,  0.        ,  0.        ,  0.        ,  0.        ,\n",
       "        1.78147489,  0.        ,  0.88738292, -0.28229213,  0.        ,\n",
       "        0.        ])"
      ]
     },
     "execution_count": 122,
     "metadata": {},
     "output_type": "execute_result"
    }
   ],
   "source": [
    "# Checking this function for k=10 \n",
    "# It returns the betas of the OLS model\n",
    "\n",
    "beta_k10 = olsoptimal(train_df,10,train_df.shape[0])\n",
    "beta_k10"
   ]
  },
  {
   "cell_type": "markdown",
   "id": "5adeadca",
   "metadata": {},
   "source": [
    "## Function to cross-validate the optimization model and check for SSE over different values of k (number of parameters selected)"
   ]
  },
  {
   "cell_type": "code",
   "execution_count": 123,
   "id": "7d4e2152",
   "metadata": {},
   "outputs": [],
   "source": [
    "def cv_ols(df):\n",
    "    \n",
    "    # Creating an empty list to store total Sum of Squared Errors\n",
    "    sse_list = []\n",
    "    \n",
    "    # Looping for different values of k ranging from 5, 10, 15....50\n",
    "    for k in range(5,51,5):\n",
    "        error_list = []\n",
    "        for cv in range(10):\n",
    "            # Extracting 10 random indexes to subset the training data into validation and training sets\n",
    "            \n",
    "            random_index = np.random.choice(range(0,df.shape[0]),int(df.shape[0]/10), replace = False)\n",
    "\n",
    "            X_holdout = df.drop(columns=['y']).iloc[random_index]\n",
    "            y_holdout = df['y'].iloc[random_index]\n",
    "\n",
    "            X_train = df.drop(random_index,axis=0)\n",
    "            X_train_dep = X_train.drop(columns=['y'])\n",
    "            y_train = df['y'].drop(random_index,axis=0)\n",
    "\n",
    "            # n stores the total number of observations in the dataframe that is being used to create the model\n",
    "            n = X_train.shape[0]\n",
    "            \n",
    "            # Using our previously defined function to get the beta values after cross validation\n",
    "            betas = olsoptimal(X_train,k,n)\n",
    "\n",
    "            # Creating an X_matrix to store all independent variables from the holdout set\n",
    "            # Will use these values to predict the dependent variable by multiplying it with the betas obtained above\n",
    "            X = np.array(X_holdout)\n",
    "            X_matrix = np.zeros((X_holdout.shape[0],X_holdout.shape[1]+1))\n",
    "\n",
    "            X_matrix[:,0] = 1\n",
    "            X_matrix[:,1:] = X\n",
    "\n",
    "\n",
    "            y_pred = list(X_matrix @ betas)\n",
    "            \n",
    "            # Getting the residuals and squaring it\n",
    "            residual = y_pred - y_holdout\n",
    "            sse = sum(residual**2)\n",
    "            error_list.append(sse)\n",
    "            \n",
    "        # Storing the sum of squared errors in a list    \n",
    "        sse_list.append(sum(error_list))\n",
    "\n",
    "    return sse_list"
   ]
  },
  {
   "cell_type": "code",
   "execution_count": 124,
   "id": "1bc10711",
   "metadata": {},
   "outputs": [],
   "source": [
    "# Using the function to return the errors\n",
    "chk_errors = cv_ols(train_df)"
   ]
  },
  {
   "cell_type": "code",
   "execution_count": 125,
   "id": "d75a87ac",
   "metadata": {},
   "outputs": [],
   "source": [
    "# Creating a datframe with k values and corresponding errors\n",
    "k_errors = pd.DataFrame(zip(list(range(5,51,5)),chk_errors),columns=['k','SSE'])"
   ]
  },
  {
   "cell_type": "code",
   "execution_count": 126,
   "id": "69279b83",
   "metadata": {},
   "outputs": [],
   "source": [
    "# k_errors.to_csv('k_errors.csv')"
   ]
  },
  {
   "cell_type": "code",
   "execution_count": 127,
   "id": "db3a555d",
   "metadata": {},
   "outputs": [],
   "source": [
    "# Storing the best value of k in a separate variable\n",
    "best_k = k_errors.iloc[k_errors['SSE'].idxmin()]['k']"
   ]
  },
  {
   "cell_type": "code",
   "execution_count": 128,
   "id": "73328083",
   "metadata": {},
   "outputs": [
    {
     "name": "stdout",
     "output_type": "stream",
     "text": [
      "Value of k that gives the lowest SSE is:  10.0\n"
     ]
    }
   ],
   "source": [
    "print(\"Value of k that gives the lowest SSE is: \",best_k)"
   ]
  },
  {
   "cell_type": "code",
   "execution_count": 129,
   "id": "93fd6dc9",
   "metadata": {},
   "outputs": [
    {
     "data": {
      "text/plain": [
       "Text(0.5, 1.0, 'Different Values of k and SSEs')"
      ]
     },
     "execution_count": 129,
     "metadata": {},
     "output_type": "execute_result"
    },
    {
     "data": {
      "image/png": "[encoded data removed]",
      "text/plain": [
       "<Figure size 720x504 with 1 Axes>"
      ]
     },
     "metadata": {
      "needs_background": "light"
     },
     "output_type": "display_data"
    }
   ],
   "source": [
    "fig = plt.figure(figsize = (10, 7))\n",
    "\n",
    "sns.lineplot(x='k',y='SSE',data=k_errors)\n",
    "\n",
    "plt.xlabel(\"k Values\")\n",
    "plt.ylabel(\"Sum of Squared Errors\")\n",
    "plt.title(\"Different Values of k and SSEs\")"
   ]
  },
  {
   "cell_type": "code",
   "execution_count": 161,
   "id": "efcc108e",
   "metadata": {},
   "outputs": [
    {
     "data": {
      "text/plain": [
       "Text(0.5, 1.0, 'Coefficients Selected for k=10')"
      ]
     },
     "execution_count": 161,
     "metadata": {},
     "output_type": "execute_result"
    },
    {
     "data": {
      "image/png": "[encoded data removed]",
      "text/plain": [
       "<Figure size 1296x576 with 1 Axes>"
      ]
     },
     "metadata": {
      "needs_background": "light"
     },
     "output_type": "display_data"
    }
   ],
   "source": [
    "# Graph showing the coefficients of the variables selected\n",
    "\n",
    "fig = plt.figure(figsize = (18, 8))\n",
    "\n",
    "opt_k_betas= olsoptimal(train_df,best_k,train_df.shape[0])\n",
    "beta_columns = ['X0'] + list(train_df.drop(columns=['y']).columns)\n",
    "beta_df = pd.DataFrame(zip(beta_columns,opt_k_betas),columns=['variable','coefficient'])\n",
    "beta_df = beta_df[beta_df['coefficient']!=0]\n",
    "\n",
    "\n",
    "sns.barplot(x='variable',y='coefficient',data=beta_df)\n",
    "\n",
    "plt.xlabel(\"X Variables\")\n",
    "plt.ylabel(\"Coefficient\")\n",
    "plt.title(\"Coefficients Selected for k=10\")"
   ]
  },
  {
   "cell_type": "markdown",
   "id": "5e41d5e8",
   "metadata": {},
   "source": [
    "# Q3"
   ]
  },
  {
   "cell_type": "markdown",
   "id": "76379f24",
   "metadata": {},
   "source": [
    "## Using best k to get best coefficients, and predicting y values using Test Data"
   ]
  },
  {
   "cell_type": "code",
   "execution_count": 131,
   "id": "149c8117",
   "metadata": {},
   "outputs": [
    {
     "name": "stdout",
     "output_type": "stream",
     "text": [
      "List of Predicted y values is:  [6.1798587814430554, 5.095242986840433, 3.285595322405012, 3.758485387661267, -0.3329752585827508, -5.142736834668355, -3.1445435672467648, -1.2380628758189638, 1.385110927664297, -0.4417385447810933, -1.6950022467195125, 2.730350268182777, 0.7474490344778995, -0.9719223177248243, -0.6868152824269118, 8.045223814607212, -7.94698471054204, 3.8906397391997847, -4.581429188968253, -3.2199208247154, -2.1621145380309494, 3.2168631773246266, -3.1981053263742094, 0.19740730625328085, -2.359888443862836, -0.4199988547491156, -1.912521602735868, -3.324185867280881, -3.1417097171886748, -3.5537932361104754, -1.8084254250491, -0.3713430055651432, 1.8670808021748784, 5.049278862839073, -1.800056141073267, 3.0942767463995766, 4.3815430904322685, 2.6988626993835316, 1.613288597544751, 5.975846372424302, -1.197358299810574, 5.223254198055277, -5.848998908490292, -1.1446152790055186, 4.518029975345612, 4.187748655603145, 4.120460083021932, 0.6148380886005063, 1.9572324582774168, -1.549043829803506]\n",
      "Sum of Squared Error is:  116.827\n",
      "Mean Squared Error is:  2.337\n"
     ]
    }
   ],
   "source": [
    "# Running optimization model with best k to fetch optimal coefficients \n",
    "\n",
    "best_betas = olsoptimal(train_df,10,train_df.shape[0])\n",
    "\n",
    "# Using these beta values to predict y values of test set\n",
    "\n",
    "X_test = test_df.drop(columns=['y'])\n",
    "X = np.array(X_test)\n",
    "X_matrix = np.zeros((X_test.shape[0],X_test.shape[1]+1))\n",
    "\n",
    "X_matrix[:,0] = 1\n",
    "X_matrix[:,1:] = X\n",
    "\n",
    "\n",
    "y_pred = list(X_matrix @ best_betas)\n",
    "\n",
    "# Getting the residuals and squaring it\n",
    "residual = y_pred - test_df['y']\n",
    "sse = round(sum(residual**2),3)\n",
    "mse = round(mean(residual**2),3)\n",
    "\n",
    "print(\"List of Predicted y values is: \",list(y_pred))\n",
    "print(\"Sum of Squared Error is: \",sse)\n",
    "print(\"Mean Squared Error is: \",mse)"
   ]
  },
  {
   "cell_type": "markdown",
   "id": "b2fb4302",
   "metadata": {},
   "source": [
    "# Q4"
   ]
  },
  {
   "cell_type": "markdown",
   "id": "e55c1186",
   "metadata": {},
   "source": [
    "## Finding optimal parameters and predicting y using Lasso Regression after Cross Validation"
   ]
  },
  {
   "cell_type": "code",
   "execution_count": 143,
   "id": "fd4c7af2",
   "metadata": {},
   "outputs": [],
   "source": [
    "from sklearn.metrics import mean_squared_error\n",
    "from sklearn.linear_model import Lasso, LassoCV\n",
    "from sklearn.model_selection import KFold"
   ]
  },
  {
   "cell_type": "code",
   "execution_count": 133,
   "id": "f3689687",
   "metadata": {},
   "outputs": [],
   "source": [
    "train_y = train_df.iloc[:, 0]\n",
    "train_X = train_df.iloc[:, 1:]\n",
    "\n",
    "test_y = test_df.iloc[:, 0]\n",
    "test_X = test_df.iloc[:, 1:]\n",
    "\n",
    "\n",
    "n = train_X.shape[0]\n",
    "m = train_X.shape[1]"
   ]
  },
  {
   "cell_type": "code",
   "execution_count": 144,
   "id": "7ccb9015",
   "metadata": {},
   "outputs": [],
   "source": [
    "cv = KFold(n_splits=10, shuffle=False)"
   ]
  },
  {
   "cell_type": "code",
   "execution_count": 145,
   "id": "5b546cfe",
   "metadata": {},
   "outputs": [],
   "source": [
    "# Cross validating the Lasso Model with LassoCV for 10 folds\n",
    "\n",
    "lasso_cv = LassoCV(cv=cv).fit(train_X, train_y)"
   ]
  },
  {
   "cell_type": "code",
   "execution_count": 146,
   "id": "723c8273",
   "metadata": {},
   "outputs": [
    {
     "data": {
      "text/plain": [
       "0.07638765995113507"
      ]
     },
     "execution_count": 146,
     "metadata": {},
     "output_type": "execute_result"
    }
   ],
   "source": [
    "# Lambda chosen by 10 CV:\n",
    "lambda10CV = lasso_cv.alpha_\n",
    "lambda10CV"
   ]
  },
  {
   "cell_type": "code",
   "execution_count": 136,
   "id": "8493376d",
   "metadata": {},
   "outputs": [
    {
     "data": {
      "text/plain": [
       "(array([ 8, 10, 14, 15, 21, 22, 23, 25, 28, 32, 33, 38, 43, 44, 45, 46, 47],\n",
       "       dtype=int64),)"
      ]
     },
     "execution_count": 136,
     "metadata": {},
     "output_type": "execute_result"
    }
   ],
   "source": [
    "# Chosen variables index:\n",
    "np.nonzero(lasso_cv.coef_)"
   ]
  },
  {
   "cell_type": "code",
   "execution_count": 137,
   "id": "16600ff6",
   "metadata": {},
   "outputs": [
    {
     "name": "stdout",
     "output_type": "stream",
     "text": [
      "Mean squared error using Lasso Regression is:  2.35\n"
     ]
    }
   ],
   "source": [
    "lasso = Lasso(alpha=lambda10CV).fit(train_X, train_y)\n",
    "yhat = lasso.predict(test_X)\n",
    "mse_lasso = round(mean_squared_error(test_y, yhat),3)\n",
    "print(\"Mean squared error using Lasso Regression is: \",mse_lasso)"
   ]
  },
  {
   "cell_type": "code",
   "execution_count": 138,
   "id": "ae67532a",
   "metadata": {},
   "outputs": [],
   "source": [
    "sse_lasso = round(sum((yhat - test_y)**2),3)"
   ]
  },
  {
   "cell_type": "code",
   "execution_count": 139,
   "id": "a1861a52",
   "metadata": {},
   "outputs": [
    {
     "name": "stdout",
     "output_type": "stream",
     "text": [
      "Sum of Squared errors using Lasso Regression is:  117.482\n"
     ]
    }
   ],
   "source": [
    "print(\"Sum of Squared errors using Lasso Regression is: \",sse_lasso)"
   ]
  },
  {
   "cell_type": "markdown",
   "id": "39f85d74",
   "metadata": {},
   "source": [
    "## Comparing Errors of MIQP Optimized OLS and Lasso Regression"
   ]
  },
  {
   "cell_type": "code",
   "execution_count": 140,
   "id": "e223085c",
   "metadata": {},
   "outputs": [
    {
     "data": {
      "text/html": [
       "<div>\n",
       "<style scoped>\n",
       "    .dataframe tbody tr th:only-of-type {\n",
       "        vertical-align: middle;\n",
       "    }\n",
       "\n",
       "    .dataframe tbody tr th {\n",
       "        vertical-align: top;\n",
       "    }\n",
       "\n",
       "    .dataframe thead th {\n",
       "        text-align: right;\n",
       "    }\n",
       "</style>\n",
       "<table border=\"1\" class=\"dataframe\">\n",
       "  <thead>\n",
       "    <tr style=\"text-align: right;\">\n",
       "      <th></th>\n",
       "      <th>Optimized OLS</th>\n",
       "      <th>Lasso Regression</th>\n",
       "    </tr>\n",
       "    <tr>\n",
       "      <th>Errors</th>\n",
       "      <th></th>\n",
       "      <th></th>\n",
       "    </tr>\n",
       "  </thead>\n",
       "  <tbody>\n",
       "    <tr>\n",
       "      <th>MSE</th>\n",
       "      <td>2.337</td>\n",
       "      <td>2.350</td>\n",
       "    </tr>\n",
       "    <tr>\n",
       "      <th>SSE</th>\n",
       "      <td>116.827</td>\n",
       "      <td>117.482</td>\n",
       "    </tr>\n",
       "  </tbody>\n",
       "</table>\n",
       "</div>"
      ],
      "text/plain": [
       "        Optimized OLS  Lasso Regression\n",
       "Errors                                 \n",
       "MSE             2.337             2.350\n",
       "SSE           116.827           117.482"
      ]
     },
     "execution_count": 140,
     "metadata": {},
     "output_type": "execute_result"
    }
   ],
   "source": [
    "index_values = ['MSE','SSE']\n",
    "comparison_df = pd.DataFrame({\"Errors\":index_values,\"Optimized OLS\":[mse,sse], \"Lasso Regression\":[mse_lasso,sse_lasso]})\n",
    "\n",
    "comparison_df = comparison_df.set_index('Errors')\n",
    "comparison_df"
   ]
  },
  {
   "cell_type": "code",
   "execution_count": 141,
   "id": "339d3ba5",
   "metadata": {},
   "outputs": [
    {
     "data": {
      "text/plain": [
       "Text(0.5, 1.0, 'Different Methods of k and SSEs')"
      ]
     },
     "execution_count": 141,
     "metadata": {},
     "output_type": "execute_result"
    },
    {
     "data": {
      "image/png": "[encoded data removed]",
      "text/plain": [
       "<Figure size 576x360 with 1 Axes>"
      ]
     },
     "metadata": {
      "needs_background": "light"
     },
     "output_type": "display_data"
    }
   ],
   "source": [
    "fig = plt.figure(figsize = (8, 5))\n",
    "\n",
    "sns.barplot(x=comparison_df.columns,y=comparison_df.loc['SSE'].values)\n",
    "plt.ylim(115,120)\n",
    "plt.xlabel(\"Method\")\n",
    "plt.ylabel(\"Sum of Squared Errors\")\n",
    "plt.title(\"Different Methods of k and SSEs\")"
   ]
  },
  {
   "cell_type": "code",
   "execution_count": null,
   "id": "b6af1e3b",
   "metadata": {},
   "outputs": [],
   "source": []
  }
 ],
 "metadata": {
  "kernelspec": {
   "display_name": "Python 3",
   "language": "python",
   "name": "python3"
  },
  "language_info": {
   "codemirror_mode": {
    "name": "ipython",
    "version": 3
   },
   "file_extension": ".py",
   "mimetype": "text/x-python",
   "name": "python",
   "nbconvert_exporter": "python",
   "pygments_lexer": "ipython3",
   "version": "3.8.8"
  }
 },
 "nbformat": 4,
 "nbformat_minor": 5
}
